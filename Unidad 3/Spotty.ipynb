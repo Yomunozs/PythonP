{
  "nbformat": 4,
  "nbformat_minor": 0,
  "metadata": {
    "colab": {
      "provenance": [],
      "authorship_tag": "ABX9TyP+I63xeX9uDhjobwoawq3g",
      "include_colab_link": true
    },
    "kernelspec": {
      "name": "python3",
      "display_name": "Python 3"
    },
    "language_info": {
      "name": "python"
    }
  },
  "cells": [
    {
      "cell_type": "markdown",
      "metadata": {
        "id": "view-in-github",
        "colab_type": "text"
      },
      "source": [
        "<a href=\"https://colab.research.google.com/github/Yomunozs/PythonP/blob/main/Unidad%203/Spotty.ipynb\" target=\"_parent\"><img src=\"https://colab.research.google.com/assets/colab-badge.svg\" alt=\"Open In Colab\"/></a>"
      ]
    },
    {
      "cell_type": "code",
      "execution_count": 4,
      "metadata": {
        "colab": {
          "base_uri": "https://localhost:8080/"
        },
        "id": "ym3Beg_AAZGS",
        "outputId": "9848e949-b0f5-4d94-d0a5-1cde2518da94"
      },
      "outputs": [
        {
          "output_type": "stream",
          "name": "stdout",
          "text": [
            "('Bohemian Rhapsody', 'Queen', 7.8)\n"
          ]
        }
      ],
      "source": [
        "musica = [(\"yellow Submarine\", \"The Beattles\", 9.2),\n",
        "          (\"Imagine\", \"John Lennon\", 8.5),\n",
        "          (\"Let it be\", \"The beattles\", 9.0),\n",
        "          (\"Bohemian Rhapsody\", \"Queen\", 7.8),\n",
        "          (\"Starway to Heaven\", \"Led Zapppelin\", 7.5)]\n",
        "\n",
        "def buscar_cancion(nombre):\n",
        "  for cancion in musica:\n",
        "    if cancion[0] == nombre:\n",
        "      return cancion\n",
        "  return None\n",
        "\n",
        "print(buscar_cancion(\"Bohemian Rhapsody\"))"
      ]
    },
    {
      "cell_type": "code",
      "source": [],
      "metadata": {
        "id": "karv8_8WEbau"
      },
      "execution_count": null,
      "outputs": []
    }
  ]
}