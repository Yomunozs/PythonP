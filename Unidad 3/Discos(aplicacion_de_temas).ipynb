{
  "nbformat": 4,
  "nbformat_minor": 0,
  "metadata": {
    "colab": {
      "provenance": [],
      "authorship_tag": "ABX9TyOy4ggzBT+2qcOSIMVFbh+8",
      "include_colab_link": true
    },
    "kernelspec": {
      "name": "python3",
      "display_name": "Python 3"
    },
    "language_info": {
      "name": "python"
    }
  },
  "cells": [
    {
      "cell_type": "markdown",
      "metadata": {
        "id": "view-in-github",
        "colab_type": "text"
      },
      "source": [
        "<a href=\"https://colab.research.google.com/github/Yomunozs/PythonP/blob/main/Unidad%203/Discos(aplicacion_de_temas).ipynb\" target=\"_parent\"><img src=\"https://colab.research.google.com/assets/colab-badge.svg\" alt=\"Open In Colab\"/></a>"
      ]
    },
    {
      "cell_type": "code",
      "execution_count": 16,
      "metadata": {
        "id": "0vJ3Z2OvZzXt"
      },
      "outputs": [],
      "source": [
        "discos = [\n",
        "    {\"nombre\": \"Abbey Road\", \"artista\": \"The Beatles\",\n",
        "     \"canciones\": [(\"Come Together\", 260), (\"Someting\", 182), (\"Octopus´s Gardes\", 167)],\n",
        "     \"stock\": 5},\n",
        "    {\"nombre\": \"Imagine\", \"artista\": \"John Lennon\",\n",
        "     \"canciones\": [(\"Imagine\", 181), (\"Crippled Inside\", 231), (\"It´s So Hard\", 122)],\n",
        "     \"stock\": 3},\n",
        "    #Mas discos\n",
        "]\n",
        "\n",
        "def buscar_disco(discos, nombre = None, artista = None):\n",
        "  resultados = []\n",
        "  for disco in discos:\n",
        "    if nombre and disco[\"nombre\"] == nombre:\n",
        "      resultado.append(disco)\n",
        "    if artista and disco[\"arista\"] == artista:\n",
        "      resultados.append(disco)\n",
        "  return resultados\n",
        "\n",
        "def buscar_cancion(discos, nombre):\n",
        "  resultados = []\n",
        "  for disco in discos:\n",
        "    for cancion in disco[\"canciones\"]:\n",
        "      if cancion[0] == nombre:\n",
        "        resultados.append({cancion, disco[\"nombre\"], disco[\"artista\"]})\n",
        "  return resultados\n",
        "\n",
        "def comprar_disco(discos, nombre):\n",
        "  for disco in discos:\n",
        "    if disco[\"nombre\"] == nombre and disco[\"stock\"] > 0:\n",
        "      disco[\"stock\"] -= 1\n",
        "      print(f\"Has comprado {nombre}. Quedan {disco['stock']} en stock.\")\n",
        "      return\n",
        "  print(f\"No se pudo completar la compra de {nombre}.\")\n",
        "\n",
        "def bubble_sort_discos(discos):\n",
        "  n = len(discos)\n",
        "  for i in range(n):\n",
        "    for j in range(0, n-i-1):\n",
        "      if discos[j][\"nombre\"] > discos[j+1][\"nombre\"]:\n",
        "        discos[j], discos[j+1] = discos[j+1], discos[j]\n",
        "\n",
        "#Con parte del nombre\n",
        "def buscar_disco_parcial(discos, nombre_parcial, indice = 0):\n",
        "  if indice == len(discos):\n",
        "    return None\n",
        "  if nombre_parcial in discos[indice][\"nombre\"]:\n",
        "    return discos[indice]\n",
        "  return buscar_disco_parcial(discos, nombre_parcial, indice + 1)\n"
      ]
    },
    {
      "cell_type": "code",
      "source": [
        "print(buscar_disco(discos = \"Imagine\"))\n",
        "print(buscar_cancion(discos, \"Come Together\"))\n",
        "comprar_disco(discos, \"Imagine\")\n",
        "print(buscar_disco_parcial(discos, \"Abb\"))"
      ],
      "metadata": {
        "colab": {
          "base_uri": "https://localhost:8080/"
        },
        "id": "YERCNcBqhJpi",
        "outputId": "2206b24f-7b2f-4611-8146-c52da57c04a9"
      },
      "execution_count": 19,
      "outputs": [
        {
          "output_type": "stream",
          "name": "stdout",
          "text": [
            "[]\n",
            "[{'Abbey Road', ('Come Together', 260), 'The Beatles'}]\n",
            "Has comprado Imagine. Quedan 0 en stock.\n",
            "{'nombre': 'Abbey Road', 'artista': 'The Beatles', 'canciones': [('Come Together', 260), ('Someting', 182), ('Octopus´s Gardes', 167)], 'stock': 5}\n"
          ]
        }
      ]
    },
    {
      "cell_type": "code",
      "source": [],
      "metadata": {
        "id": "y9XNH1Yshq81"
      },
      "execution_count": null,
      "outputs": []
    }
  ]
}