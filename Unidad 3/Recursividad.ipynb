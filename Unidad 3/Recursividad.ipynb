{
  "nbformat": 4,
  "nbformat_minor": 0,
  "metadata": {
    "colab": {
      "provenance": [],
      "authorship_tag": "ABX9TyPAjY809qI2R8MzAZVE7Sax",
      "include_colab_link": true
    },
    "kernelspec": {
      "name": "python3",
      "display_name": "Python 3"
    },
    "language_info": {
      "name": "python"
    }
  },
  "cells": [
    {
      "cell_type": "markdown",
      "metadata": {
        "id": "view-in-github",
        "colab_type": "text"
      },
      "source": [
        "<a href=\"https://colab.research.google.com/github/Yomunozs/PythonP/blob/main/Unidad%203/Recursividad.ipynb\" target=\"_parent\"><img src=\"https://colab.research.google.com/assets/colab-badge.svg\" alt=\"Open In Colab\"/></a>"
      ]
    },
    {
      "cell_type": "code",
      "execution_count": 3,
      "metadata": {
        "colab": {
          "base_uri": "https://localhost:8080/"
        },
        "id": "l3_LubV-Wvdx",
        "outputId": "9c3be751-c22d-4e21-f87b-563ef3804625"
      },
      "outputs": [
        {
          "output_type": "stream",
          "name": "stdout",
          "text": [
            "El factorial de 5 es: 120\n"
          ]
        }
      ],
      "source": [
        "#Funcion factorial\n",
        "def factorial(n):\n",
        "  if n == 0:\n",
        "    return 1\n",
        "  else:\n",
        "    return n * factorial(n-1)\n",
        "\n",
        "#Ejemplo de uso\n",
        "n = 5\n",
        "resultado = factorial(n)\n",
        "print(f\"El factorial de {n} es: {resultado}\")"
      ]
    },
    {
      "cell_type": "code",
      "source": [
        "#Permutaciones, calcular todas as combinaciones posibles\n",
        "def permutaciones(lista):\n",
        "  if len(lista) == 0:\n",
        "    return []\n",
        "  if len (lista) == 1:\n",
        "    return [lista]\n",
        "  l = []\n",
        "  for i in range(len(lista)):\n",
        "    m = lista[i]\n",
        "    lista_remanente = lista[:i] + lista[i+1:]\n",
        "    for p in permutaciones(lista_remanente):\n",
        "\n",
        "      l.append([m] + p)\n",
        "  return l"
      ],
      "metadata": {
        "id": "_iudNDuuXQw8"
      },
      "execution_count": 10,
      "outputs": []
    },
    {
      "cell_type": "code",
      "source": [
        "lista = [1 ,2 ,3 ,4 ,5, 6, 7, 8, 9]\n",
        "t = permutaciones(lista)\n"
      ],
      "metadata": {
        "id": "7rcQAwIOYarf"
      },
      "execution_count": 12,
      "outputs": []
    },
    {
      "cell_type": "code",
      "source": [],
      "metadata": {
        "id": "IAH6mtUrYn7K"
      },
      "execution_count": null,
      "outputs": []
    }
  ]
}