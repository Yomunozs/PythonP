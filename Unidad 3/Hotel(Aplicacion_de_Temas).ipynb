{
  "nbformat": 4,
  "nbformat_minor": 0,
  "metadata": {
    "colab": {
      "provenance": [],
      "authorship_tag": "ABX9TyOiIEIFt24upcNezwOW1j2H",
      "include_colab_link": true
    },
    "kernelspec": {
      "name": "python3",
      "display_name": "Python 3"
    },
    "language_info": {
      "name": "python"
    }
  },
  "cells": [
    {
      "cell_type": "markdown",
      "metadata": {
        "id": "view-in-github",
        "colab_type": "text"
      },
      "source": [
        "<a href=\"https://colab.research.google.com/github/Yomunozs/PythonP/blob/main/Unidad%203/Hotel(Aplicacion_de_Temas).ipynb\" target=\"_parent\"><img src=\"https://colab.research.google.com/assets/colab-badge.svg\" alt=\"Open In Colab\"/></a>"
      ]
    },
    {
      "cell_type": "code",
      "execution_count": null,
      "metadata": {
        "id": "CiWuvh83j6Qo"
      },
      "outputs": [],
      "source": [
        "import re\n",
        "from datetime import datetime\n",
        "\n",
        "class Habitacion:\n",
        "  def __init__(self, numero, tipo, precio):\n",
        "    self.numero = numero\n",
        "    self.tipo = tipo\n",
        "    self.precio = precio\n",
        "\n",
        "class: Cliente:\n",
        "  def __init__(self, nombre, correo):\n",
        "    self.nombre = nombre\n",
        "    #if not re.search(r\"^[a-zA:Z0-9.!#$%&'*+\\/=?^_´{|}~-]+\")\n",
        "    self.correo = correo\n",
        "\n",
        "class: Reserva:\n",
        "  def __init__(self, cliente, habitacion, fecha_inicio, fecha_fin):\n",
        "    self.cliente = cliente\n",
        "    self.habitacion = habitacion\n",
        "    self.fecha_inicio = datetime.strptime(fecha_inicio, '%Y-%m-%d').date()\n",
        "    self.fecha_fin = datetime.strptime(fecha_fin, '%Y-%m-%d').date()\n",
        "    if self.fecha_inicio > self.fecha_fin:\n",
        "      raise ValueError(\"Las fechas no son válidas\")\n",
        "\n",
        "#Sin terminar"
      ]
    },
    {
      "cell_type": "code",
      "source": [],
      "metadata": {
        "id": "QrdrkovMmaTx"
      },
      "execution_count": null,
      "outputs": []
    }
  ]
}