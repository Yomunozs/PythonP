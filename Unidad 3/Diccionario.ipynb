{
  "nbformat": 4,
  "nbformat_minor": 0,
  "metadata": {
    "colab": {
      "provenance": [],
      "authorship_tag": "ABX9TyOA3W8YqdeCj4y/r39Ll4yJ",
      "include_colab_link": true
    },
    "kernelspec": {
      "name": "python3",
      "display_name": "Python 3"
    },
    "language_info": {
      "name": "python"
    }
  },
  "cells": [
    {
      "cell_type": "markdown",
      "metadata": {
        "id": "view-in-github",
        "colab_type": "text"
      },
      "source": [
        "<a href=\"https://colab.research.google.com/github/Yomunozs/PythonP/blob/main/Unidad%203/Diccionario.ipynb\" target=\"_parent\"><img src=\"https://colab.research.google.com/assets/colab-badge.svg\" alt=\"Open In Colab\"/></a>"
      ]
    },
    {
      "cell_type": "code",
      "execution_count": 9,
      "metadata": {
        "colab": {
          "base_uri": "https://localhost:8080/"
        },
        "id": "i0ztj3YU80up",
        "outputId": "b0f7890e-c9b6-4481-e44c-5e572360466a"
      },
      "outputs": [
        {
          "output_type": "stream",
          "name": "stdout",
          "text": [
            "87\n",
            "{'Juan': 95, 'Maria': 87, 'Pedro': 82, 'Ana': 92}\n",
            "{'Juan': 95, 'Maria': 87, 'Pedro': 82, 'Ana': 92, 'Carlos': 88}\n",
            "{'Juan': 95, 'Maria': 87, 'Pedro': 82, 'Carlos': 88}\n"
          ]
        }
      ],
      "source": [
        "#Crear diccionario\n",
        "puntajes = {\"Juan\" : 95, \"Maria\": 87, \"Pedro\": 78, \"Ana\": 92}\n",
        "\n",
        "#Acceder a valores por clave\n",
        "print(puntajes[\"Maria\"])\n",
        "\n",
        "#Modificar valore\n",
        "puntajes[\"Pedro\"] = 82\n",
        "print(puntajes)\n",
        "\n",
        "#Agregar nuevos valores\n",
        "puntajes[\"Carlos\"] = 88\n",
        "print(puntajes)\n",
        "\n",
        "#Eliminar elementos\n",
        "del puntajes[\"Ana\"]\n",
        "print(puntajes)\n"
      ]
    },
    {
      "cell_type": "code",
      "source": [],
      "metadata": {
        "id": "kcBxkHbd-t-U"
      },
      "execution_count": null,
      "outputs": []
    }
  ]
}