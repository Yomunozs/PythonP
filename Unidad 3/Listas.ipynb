{
  "nbformat": 4,
  "nbformat_minor": 0,
  "metadata": {
    "colab": {
      "provenance": [],
      "authorship_tag": "ABX9TyNuHxatHDU+6sePvgctH7I9",
      "include_colab_link": true
    },
    "kernelspec": {
      "name": "python3",
      "display_name": "Python 3"
    },
    "language_info": {
      "name": "python"
    }
  },
  "cells": [
    {
      "cell_type": "markdown",
      "metadata": {
        "id": "view-in-github",
        "colab_type": "text"
      },
      "source": [
        "<a href=\"https://colab.research.google.com/github/Yomunozs/PythonP/blob/main/Unidad%203/Listas.ipynb\" target=\"_parent\"><img src=\"https://colab.research.google.com/assets/colab-badge.svg\" alt=\"Open In Colab\"/></a>"
      ]
    },
    {
      "cell_type": "code",
      "execution_count": 4,
      "metadata": {
        "colab": {
          "base_uri": "https://localhost:8080/"
        },
        "id": "ln4jv5xkn5ZB",
        "outputId": "e1123c23-a777-407d-bd6b-b0eaf1349453"
      },
      "outputs": [
        {
          "name": "stdout",
          "output_type": "stream",
          "text": [
            "\n",
            "---lista de compras---\n",
            "\n",
            " 1.Agregar articulo\n",
            "\n",
            " 2.Eliminar articulo\n",
            "\n",
            " 3.Ver lista\n",
            "\n",
            " 4.Salir\n",
            "Por favor introduzca una opción: 1\n",
            "Introduzca el nombre del articulo que quiere agregar: cebolla\n",
            "\n",
            "---lista de compras---\n",
            "\n",
            " 1.Agregar articulo\n",
            "\n",
            " 2.Eliminar articulo\n",
            "\n",
            " 3.Ver lista\n",
            "\n",
            " 4.Salir\n",
            "Por favor introduzca una opción: 1\n",
            "Introduzca el nombre del articulo que quiere agregar: aceite\n",
            "\n",
            "---lista de compras---\n",
            "\n",
            " 1.Agregar articulo\n",
            "\n",
            " 2.Eliminar articulo\n",
            "\n",
            " 3.Ver lista\n",
            "\n",
            " 4.Salir\n",
            "Por favor introduzca una opción: 2\n",
            "Introduzca el nombre del articulo que quiere eliminar: aceite\n",
            "\n",
            "---lista de compras---\n",
            "\n",
            " 1.Agregar articulo\n",
            "\n",
            " 2.Eliminar articulo\n",
            "\n",
            " 3.Ver lista\n",
            "\n",
            " 4.Salir\n",
            "Por favor introduzca una opción: 1\n",
            "Introduzca el nombre del articulo que quiere agregar: papa\n",
            "\n",
            "---lista de compras---\n",
            "\n",
            " 1.Agregar articulo\n",
            "\n",
            " 2.Eliminar articulo\n",
            "\n",
            " 3.Ver lista\n",
            "\n",
            " 4.Salir\n",
            "Por favor introduzca una opción: 1\n",
            "Introduzca el nombre del articulo que quiere agregar: huevos\n",
            "\n",
            "---lista de compras---\n",
            "\n",
            " 1.Agregar articulo\n",
            "\n",
            " 2.Eliminar articulo\n",
            "\n",
            " 3.Ver lista\n",
            "\n",
            " 4.Salir\n",
            "Por favor introduzca una opción: 3\n",
            "\n",
            " Su lista de compras es: \n",
            "- cebolla\n",
            "- papa\n",
            "- huevos\n",
            "\n",
            "---lista de compras---\n",
            "\n",
            " 1.Agregar articulo\n",
            "\n",
            " 2.Eliminar articulo\n",
            "\n",
            " 3.Ver lista\n",
            "\n",
            " 4.Salir\n",
            "Por favor introduzca una opción: 4\n"
          ]
        }
      ],
      "source": [
        "def main():\n",
        "  shopping_listas = []\n",
        "\n",
        "  while  True:\n",
        "    print(\"\\n---lista de compras---\")#\\n pasa lo que se imprime al siguiente renglon\n",
        "    print(\"\\n 1.Agregar articulo\")\n",
        "    print(\"\\n 2.Eliminar articulo\")\n",
        "    print(\"\\n 3.Ver lista\")\n",
        "    print(\"\\n 4.Salir\")\n",
        "\n",
        "    option = input(\"Por favor introduzca una opción: \")\n",
        "    if option == \"1\":\n",
        "      item = input(\"Introduzca el nombre del articulo que quiere agregar: \")\n",
        "      shopping_listas.append(item)\n",
        "    elif option == \"2\":\n",
        "      item = input(\"Introduzca el nombre del articulo que quiere eliminar: \")\n",
        "      if item in shopping_listas:\n",
        "        shopping_listas.remove(item)\n",
        "    elif option == \"3\":\n",
        "      print(\"\\n Su lista de compras es: \")\n",
        "      for item in shopping_listas:\n",
        "        print(\"- \" + item)\n",
        "    elif option == \"4\":\n",
        "      break\n",
        "    else:\n",
        "      print(\"opcion invalida.por favor intente de nuevo\")\n",
        "\n",
        "if __name__ == \"__main__\":\n",
        "  main()\n",
        "\n",
        "\n",
        "\n",
        "\n"
      ]
    },
    {
      "cell_type": "code",
      "source": [],
      "metadata": {
        "id": "4ZjvX_HiqgH2"
      },
      "execution_count": null,
      "outputs": []
    }
  ]
}