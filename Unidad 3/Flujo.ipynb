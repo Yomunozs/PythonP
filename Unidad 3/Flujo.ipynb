{
  "nbformat": 4,
  "nbformat_minor": 0,
  "metadata": {
    "colab": {
      "provenance": [],
      "authorship_tag": "ABX9TyMtoBQ09h6GyBslCkc4XyUQ",
      "include_colab_link": true
    },
    "kernelspec": {
      "name": "python3",
      "display_name": "Python 3"
    },
    "language_info": {
      "name": "python"
    }
  },
  "cells": [
    {
      "cell_type": "markdown",
      "metadata": {
        "id": "view-in-github",
        "colab_type": "text"
      },
      "source": [
        "<a href=\"https://colab.research.google.com/github/Yomunozs/PythonP/blob/main/Unidad%203/Flujo.ipynb\" target=\"_parent\"><img src=\"https://colab.research.google.com/assets/colab-badge.svg\" alt=\"Open In Colab\"/></a>"
      ]
    },
    {
      "cell_type": "code",
      "execution_count": 2,
      "metadata": {
        "colab": {
          "base_uri": "https://localhost:8080/"
        },
        "id": "xGyQWWk4_07m",
        "outputId": "186b18a6-f407-41cb-da33-6897523c6fe4"
      },
      "outputs": [
        {
          "output_type": "stream",
          "name": "stdout",
          "text": [
            "{'manzanas': 15, 'bananas': 5, 'naranjas': 3, 'peras': 7}\n",
            "{'manzanas': 15, 'bananas': 5, 'naranjas': 1, 'peras': 7}\n",
            "7\n"
          ]
        }
      ],
      "source": [
        "inventario = {\"manzanas\" : 10, \"bananas\" : 5, \"naranjas\" : 3, \"peras\" : 7}\n",
        "\n",
        "def gestion_inventario(accion, articulo,cantidad=0):\n",
        "  if accion == \"agregar\":\n",
        "    if articulo in inventario:\n",
        "      inventario[articulo] += cantidad\n",
        "    else:\n",
        "      inventario[articulo] = cantidad\n",
        "  elif accion == \"quitar\":\n",
        "    if articulo in inventario and inventario[articulo] >= cantidad:\n",
        "      inventario[articulo] -= cantidad\n",
        "    else:\n",
        "      print(\"No se puede realizar la acción\")\n",
        "  elif accion == \"buscar\":\n",
        "    if articulo in inventario:\n",
        "      return inventario[articulo]\n",
        "    else:\n",
        "      return None\n",
        "  else:\n",
        "    print(\"Acción no reconocida\")\n",
        "\n",
        "gestion_inventario(\"agregar\",\"manzanas\",5)\n",
        "print(inventario)\n",
        "\n",
        "gestion_inventario(\"quitar\", \"naranjas\", 2)\n",
        "print(inventario)\n",
        "\n",
        "print(gestion_inventario(\"buscar\",\"peras\"))"
      ]
    },
    {
      "cell_type": "code",
      "source": [],
      "metadata": {
        "id": "4Gxsou0BD8_P"
      },
      "execution_count": null,
      "outputs": []
    }
  ]
}