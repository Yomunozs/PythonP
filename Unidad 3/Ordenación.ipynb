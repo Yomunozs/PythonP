{
  "nbformat": 4,
  "nbformat_minor": 0,
  "metadata": {
    "colab": {
      "provenance": [],
      "authorship_tag": "ABX9TyPzDX/FGpgkq8K3uM32R10d",
      "include_colab_link": true
    },
    "kernelspec": {
      "name": "python3",
      "display_name": "Python 3"
    },
    "language_info": {
      "name": "python"
    }
  },
  "cells": [
    {
      "cell_type": "markdown",
      "metadata": {
        "id": "view-in-github",
        "colab_type": "text"
      },
      "source": [
        "<a href=\"https://colab.research.google.com/github/Yomunozs/PythonP/blob/main/Unidad%203/Ordenaci%C3%B3n.ipynb\" target=\"_parent\"><img src=\"https://colab.research.google.com/assets/colab-badge.svg\" alt=\"Open In Colab\"/></a>"
      ]
    },
    {
      "cell_type": "code",
      "execution_count": 36,
      "metadata": {
        "colab": {
          "base_uri": "https://localhost:8080/"
        },
        "id": "yC1yUeS6UlUj",
        "outputId": "df0539bb-b092-4030-b23e-3ece7863ea47"
      },
      "outputs": [
        {
          "output_type": "stream",
          "name": "stdout",
          "text": [
            "El elemento 22 se encuentra en el indice 4.\n"
          ]
        }
      ],
      "source": [
        "#Busqueda lineal - inear search\n",
        "def linear_search(lista,elemento):\n",
        "  for i in range(len(lista)):\n",
        "    if lista[i] == elemento:\n",
        "      return i\n",
        "  return -1\n",
        "\n",
        "numeros = [64, 34, 25, 12, 22, 11, 90]\n",
        "a = numeros\n",
        "b = numeros\n",
        "elemento_buscado = 22\n",
        "indice = linear_search(numeros, elemento_buscado)\n",
        "if indice != -1:\n",
        "  print(f\"El elemento {elemento_buscado} se encuentra en el indice {indice}.\")\n",
        "else:\n",
        "  print(f\"El elemento {Elemento_buscado} no se encuentra en al lista.\")"
      ]
    },
    {
      "cell_type": "code",
      "source": [
        "#Ordenamiento burbuja - bubble sort\n",
        "def bubble_sort(lista):\n",
        "  n=len(lista)\n",
        "  for i in range(n):\n",
        "    for j in range(0, n-i-1):\n",
        "      if lista[j] > lista [j+1]:\n",
        "        lista[j], lista[j+1] = lista[j+1], lista[j]\n",
        "\n",
        "bubble_sort(numeros)\n",
        "numeros"
      ],
      "metadata": {
        "colab": {
          "base_uri": "https://localhost:8080/"
        },
        "id": "sJmS7y48WLaQ",
        "outputId": "b0f98b50-3ee8-4cad-f40b-8b7a1118aff1"
      },
      "execution_count": 33,
      "outputs": [
        {
          "output_type": "execute_result",
          "data": {
            "text/plain": [
              "[11, 12, 22, 25, 34, 64, 90]"
            ]
          },
          "metadata": {},
          "execution_count": 33
        }
      ]
    },
    {
      "cell_type": "code",
      "source": [
        "# Ordenamiento por insercion- insertion sort\n",
        "def insertion_sort(lista):\n",
        "  for i in range(1, len(lista)):\n",
        "    key = lista[i]\n",
        "    j = i - 1\n",
        "    while j >= 0 and key < lista[j]:\n",
        "      lista[j+1] = lista[j]\n",
        "      j -= 1\n",
        "    lista[j+1] = key\n",
        "\n",
        "insertion_sort(a)\n",
        "a"
      ],
      "metadata": {
        "colab": {
          "base_uri": "https://localhost:8080/"
        },
        "id": "rKgosCSPXawB",
        "outputId": "1d71dda7-6f2e-44ab-b7b9-35bd26e51ce8"
      },
      "execution_count": 34,
      "outputs": [
        {
          "output_type": "execute_result",
          "data": {
            "text/plain": [
              "[11, 12, 22, 25, 34, 64, 90]"
            ]
          },
          "metadata": {},
          "execution_count": 34
        }
      ]
    },
    {
      "cell_type": "code",
      "source": [
        "#Ordenamiento por seleccion - selection sort\n",
        "def selection_sort(lista):\n",
        "  n = len(lista)\n",
        "  for i in range(n):\n",
        "    indice_minimo = i\n",
        "    for j in range(i +1, n):\n",
        "      if lista[j] < lista [indice_minimo]:\n",
        "        indice_minimo = j\n",
        "    lista[i], lista[indice_minimo] = lista[indice_minimo], lista[i]\n",
        "\n",
        "\n",
        "selection_sort(b)\n",
        "b"
      ],
      "metadata": {
        "colab": {
          "base_uri": "https://localhost:8080/"
        },
        "id": "o6RApQY9Z-In",
        "outputId": "edbbbed9-38af-4dc2-d8f7-6acef93b215e"
      },
      "execution_count": 39,
      "outputs": [
        {
          "output_type": "execute_result",
          "data": {
            "text/plain": [
              "[11, 12, 22, 25, 34, 64, 90]"
            ]
          },
          "metadata": {},
          "execution_count": 39
        }
      ]
    },
    {
      "cell_type": "code",
      "source": [
        "import random\n",
        "\n",
        "numeros = [random.randint(1,100) for _ in range(20) ]\n",
        "numeros"
      ],
      "metadata": {
        "colab": {
          "base_uri": "https://localhost:8080/"
        },
        "id": "5LdUcFMYcnTz",
        "outputId": "c00ac5a3-1f72-4fb3-bbcf-9f4a65ccef5b"
      },
      "execution_count": 55,
      "outputs": [
        {
          "output_type": "execute_result",
          "data": {
            "text/plain": [
              "[40,\n",
              " 47,\n",
              " 71,\n",
              " 25,\n",
              " 76,\n",
              " 74,\n",
              " 27,\n",
              " 12,\n",
              " 11,\n",
              " 53,\n",
              " 41,\n",
              " 76,\n",
              " 18,\n",
              " 62,\n",
              " 21,\n",
              " 87,\n",
              " 60,\n",
              " 61,\n",
              " 91,\n",
              " 11]"
            ]
          },
          "metadata": {},
          "execution_count": 55
        }
      ]
    },
    {
      "cell_type": "code",
      "source": [
        "bubble_sort(numeros)\n",
        "numeros"
      ],
      "metadata": {
        "colab": {
          "base_uri": "https://localhost:8080/"
        },
        "id": "oY5uJBUmeKIR",
        "outputId": "0ec2f3ac-df83-444e-da7b-ec8e14b0f1af"
      },
      "execution_count": 45,
      "outputs": [
        {
          "output_type": "execute_result",
          "data": {
            "text/plain": [
              "[5, 11, 15, 16, 19, 29, 31, 35, 41, 41, 42, 51, 61, 61, 62, 74, 80, 90, 91, 92]"
            ]
          },
          "metadata": {},
          "execution_count": 45
        }
      ]
    },
    {
      "cell_type": "code",
      "source": [
        "# Ordenamiento por mezcla - merge sort\n",
        "def merge_sort(lista):\n",
        "  if len(lista) <= 1:\n",
        "    return lista\n",
        "\n",
        "  medio = len(lista) // 2\n",
        "  izquierda = merge_sort(lista[:medio])\n",
        "  derecha = merge_sort(lista[medio:])\n",
        "  return merge(izquierda,derecha)\n",
        "\n",
        "\n",
        "def merge(izquierda, derecha):\n",
        "  resultado = []\n",
        "  i = j = 0\n",
        "\n",
        "  while i < len(izquierda) and j < len(derecha):\n",
        "    if izquierda[i] < derecha[j]:\n",
        "      resultado.append(izquierda[i])\n",
        "      i += 1\n",
        "    else:\n",
        "      resultado.append(derecha[j])\n",
        "      i += 1\n",
        "  resultado.extend(izquierda[i:])\n",
        "  resultado.extend(derecha[j:])\n",
        "  return resultado\n",
        "\n",
        "\n",
        "ordenados = merge_sort(numeros)\n",
        "ordenados"
      ],
      "metadata": {
        "colab": {
          "base_uri": "https://localhost:8080/"
        },
        "id": "JvnfeDjDeWzS",
        "outputId": "191b0568-c69e-4a61-8206-ef7affb11fdd"
      },
      "execution_count": 54,
      "outputs": [
        {
          "output_type": "execute_result",
          "data": {
            "text/plain": [
              "[6, 6, 6, 6, 6, 6, 15, 15, 15, 15, 26, 26, 26, 26, 26, 26, 26, 82, 82, 82]"
            ]
          },
          "metadata": {},
          "execution_count": 54
        }
      ]
    },
    {
      "cell_type": "code",
      "source": [
        "# Ordenacion rapida - quick sort\n",
        "\n",
        "def quick_sort(lista):\n",
        "  if len(lista) <= 1:\n",
        "    return lista\n",
        "\n",
        "  pivote = lista[len(lista) // 2]\n",
        "  izquierda = [x for x in lista if x < pivote]\n",
        "  medio = [x for x in lista if x == pivote]\n",
        "  derecha = [x for x in lista if x > pivote]\n",
        "\n",
        "  return quick_sort(izquierda) + medio + quick_sort(derecha)\n",
        "\n",
        "ordenados = quick_sort(numeros)\n",
        "ordenados"
      ],
      "metadata": {
        "colab": {
          "base_uri": "https://localhost:8080/"
        },
        "id": "DrrlLhGqh9-O",
        "outputId": "53a88d3d-9368-4947-f4ba-4a91c5b93290"
      },
      "execution_count": 60,
      "outputs": [
        {
          "output_type": "execute_result",
          "data": {
            "text/plain": [
              "[11,\n",
              " 11,\n",
              " 12,\n",
              " 18,\n",
              " 21,\n",
              " 25,\n",
              " 27,\n",
              " 40,\n",
              " 41,\n",
              " 47,\n",
              " 53,\n",
              " 60,\n",
              " 61,\n",
              " 62,\n",
              " 71,\n",
              " 74,\n",
              " 76,\n",
              " 76,\n",
              " 87,\n",
              " 91]"
            ]
          },
          "metadata": {},
          "execution_count": 60
        }
      ]
    },
    {
      "cell_type": "code",
      "source": [],
      "metadata": {
        "id": "sQ16Hj4tjUpH"
      },
      "execution_count": null,
      "outputs": []
    }
  ]
}