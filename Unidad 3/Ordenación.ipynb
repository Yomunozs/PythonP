{
  "nbformat": 4,
  "nbformat_minor": 0,
  "metadata": {
    "colab": {
      "provenance": [],
      "authorship_tag": "ABX9TyMeLAQ8SLx1InF+s8TdSGn3",
      "include_colab_link": true
    },
    "kernelspec": {
      "name": "python3",
      "display_name": "Python 3"
    },
    "language_info": {
      "name": "python"
    }
  },
  "cells": [
    {
      "cell_type": "markdown",
      "metadata": {
        "id": "view-in-github",
        "colab_type": "text"
      },
      "source": [
        "<a href=\"https://colab.research.google.com/github/Yomunozs/PythonP/blob/main/Unidad%203/Ordenaci%C3%B3n.ipynb\" target=\"_parent\"><img src=\"https://colab.research.google.com/assets/colab-badge.svg\" alt=\"Open In Colab\"/></a>"
      ]
    },
    {
      "cell_type": "code",
      "execution_count": 36,
      "metadata": {
        "colab": {
          "base_uri": "https://localhost:8080/"
        },
        "id": "yC1yUeS6UlUj",
        "outputId": "df0539bb-b092-4030-b23e-3ece7863ea47"
      },
      "outputs": [
        {
          "output_type": "stream",
          "name": "stdout",
          "text": [
            "El elemento 22 se encuentra en el indice 4.\n"
          ]
        }
      ],
      "source": [
        "#Busqueda lineal - inear search\n",
        "def linear_search(lista,elemento):\n",
        "  for i in range(len(lista)):\n",
        "    if lista[i] == elemento:\n",
        "      return i\n",
        "  return -1\n",
        "\n",
        "numeros = [64, 34, 25, 12, 22, 11, 90]\n",
        "a = numeros\n",
        "b = numeros\n",
        "elemento_buscado = 22\n",
        "indice = linear_search(numeros, elemento_buscado)\n",
        "if indice != -1:\n",
        "  print(f\"El elemento {elemento_buscado} se encuentra en el indice {indice}.\")\n",
        "else:\n",
        "  print(f\"El elemento {Elemento_buscado} no se encuentra en al lista.\")"
      ]
    },
    {
      "cell_type": "code",
      "source": [
        "#Ordenamiento burbuja - bubble sort\n",
        "def bubble_sort(lista):\n",
        "  n=len(lista)\n",
        "  for i in range(n):\n",
        "    for j in range(0, n-i-1):\n",
        "      if lista[j] > lista [j+1]:\n",
        "        lista[j], lista[j+1] = lista[j+1], lista[j]\n",
        "\n",
        "bubble_sort(numeros)\n",
        "numeros"
      ],
      "metadata": {
        "colab": {
          "base_uri": "https://localhost:8080/"
        },
        "id": "sJmS7y48WLaQ",
        "outputId": "b0f98b50-3ee8-4cad-f40b-8b7a1118aff1"
      },
      "execution_count": 33,
      "outputs": [
        {
          "output_type": "execute_result",
          "data": {
            "text/plain": [
              "[11, 12, 22, 25, 34, 64, 90]"
            ]
          },
          "metadata": {},
          "execution_count": 33
        }
      ]
    },
    {
      "cell_type": "code",
      "source": [
        "# Ordenamiento por insercion- insertion sort\n",
        "def insertion_sort(lista):\n",
        "  for i in range(1, len(lista)):\n",
        "    key = lista[i]\n",
        "    j = i - 1\n",
        "    while j >= 0 and key < lista[j]:\n",
        "      lista[j+1] = lista[j]\n",
        "      j -= 1\n",
        "    lista[j+1] = key\n",
        "\n",
        "insertion_sort(a)\n",
        "a"
      ],
      "metadata": {
        "colab": {
          "base_uri": "https://localhost:8080/"
        },
        "id": "rKgosCSPXawB",
        "outputId": "1d71dda7-6f2e-44ab-b7b9-35bd26e51ce8"
      },
      "execution_count": 34,
      "outputs": [
        {
          "output_type": "execute_result",
          "data": {
            "text/plain": [
              "[11, 12, 22, 25, 34, 64, 90]"
            ]
          },
          "metadata": {},
          "execution_count": 34
        }
      ]
    },
    {
      "cell_type": "code",
      "source": [
        "#Ordenamiento por seleccion - selection sort\n",
        "def selection_sort(lista):\n",
        "  n = len(lista)\n",
        "  for i in range(n):\n",
        "    indice_minimo = i\n",
        "    for j in range(i +1, n):\n",
        "      if lista[j] < lista [indice_minimo]:\n",
        "        indice_minimo = j\n",
        "    lista[i], lista[indice_minimo] = lista[indice_minimo], lista[i]\n",
        "\n",
        "\n",
        "selection_sort(b)\n",
        "b"
      ],
      "metadata": {
        "colab": {
          "base_uri": "https://localhost:8080/"
        },
        "id": "o6RApQY9Z-In",
        "outputId": "edbbbed9-38af-4dc2-d8f7-6acef93b215e"
      },
      "execution_count": 39,
      "outputs": [
        {
          "output_type": "execute_result",
          "data": {
            "text/plain": [
              "[11, 12, 22, 25, 34, 64, 90]"
            ]
          },
          "metadata": {},
          "execution_count": 39
        }
      ]
    },
    {
      "cell_type": "code",
      "source": [],
      "metadata": {
        "id": "5LdUcFMYcnTz"
      },
      "execution_count": null,
      "outputs": []
    }
  ]
}