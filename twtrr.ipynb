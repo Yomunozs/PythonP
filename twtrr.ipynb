{
  "nbformat": 4,
  "nbformat_minor": 0,
  "metadata": {
    "colab": {
      "provenance": [],
      "authorship_tag": "ABX9TyPwFWU210s0SXNv5dgZf8qO",
      "include_colab_link": true
    },
    "kernelspec": {
      "name": "python3",
      "display_name": "Python 3"
    },
    "language_info": {
      "name": "python"
    }
  },
  "cells": [
    {
      "cell_type": "markdown",
      "metadata": {
        "id": "view-in-github",
        "colab_type": "text"
      },
      "source": [
        "<a href=\"https://colab.research.google.com/github/Yomunozs/PythonP/blob/main/twtrr.ipynb\" target=\"_parent\"><img src=\"https://colab.research.google.com/assets/colab-badge.svg\" alt=\"Open In Colab\"/></a>"
      ]
    },
    {
      "cell_type": "code",
      "execution_count": 29,
      "metadata": {
        "colab": {
          "base_uri": "https://localhost:8080/"
        },
        "id": "hOfgSleNAiHU",
        "outputId": "4465bf21-f967-4afe-8430-39649080dbfc"
      },
      "outputs": [
        {
          "name": "stdout",
          "output_type": "stream",
          "text": [
            "ingrese una palabra: set\n"
          ]
        }
      ],
      "source": [
        "def main():\n",
        "  palabra = input(\"ingrese una palabra: \")\n",
        "\n",
        "  def twttr(pal):\n",
        "    pal.lower()\n",
        "    sal=[]\n",
        "    for z in range(len(pal)):\n",
        "      if pal[z] not in [\"a\",\"e\",\"i\",\"o\",\"u\",\" \"]:\n",
        "       sal.append(pal[z])\n",
        "    return sal\n",
        "    resultado = twttr(palabra)\n",
        "    print(\"la palabra abreviada es: \" + \".join(resultado)\")\n",
        "\n",
        "if __name__ == \"__main__\":\n",
        "  main()"
      ]
    },
    {
      "cell_type": "code",
      "source": [
        "def twttr(pal):\n",
        "\n",
        "   pal=pal.lower()\n",
        "   sal=[]\n",
        "   for z in range(len(pal)):\n",
        "    if pal[z] not in [\"a\",\"e\",\"i\",\"o\",\"u\",\" \"]:\n",
        "      sal.append(pal[z])\n",
        "   return sal\n",
        "\n",
        "\n",
        "\n",
        "\n",
        "resultado = twttr(input(\"ingrese una palabra: \"))\n",
        "resultado"
      ],
      "metadata": {
        "id": "z7NfL2flCNnM"
      },
      "execution_count": null,
      "outputs": []
    }
  ]
}