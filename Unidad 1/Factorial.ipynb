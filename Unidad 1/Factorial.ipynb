{
  "nbformat": 4,
  "nbformat_minor": 0,
  "metadata": {
    "colab": {
      "provenance": [],
      "authorship_tag": "ABX9TyOTkg+Z5eYMKUumHEQ/FW+n",
      "include_colab_link": true
    },
    "kernelspec": {
      "name": "python3",
      "display_name": "Python 3"
    },
    "language_info": {
      "name": "python"
    }
  },
  "cells": [
    {
      "cell_type": "markdown",
      "metadata": {
        "id": "view-in-github",
        "colab_type": "text"
      },
      "source": [
        "<a href=\"https://colab.research.google.com/github/Yomunozs/PythonP/blob/main/Unidad%201/Factorial.ipynb\" target=\"_parent\"><img src=\"https://colab.research.google.com/assets/colab-badge.svg\" alt=\"Open In Colab\"/></a>"
      ]
    },
    {
      "cell_type": "code",
      "execution_count": 7,
      "metadata": {
        "colab": {
          "base_uri": "https://localhost:8080/"
        },
        "id": "WT_chPbxPxW7",
        "outputId": "a3298f15-a579-48d6-9464-2eb2b5228ea0"
      },
      "outputs": [
        {
          "name": "stdout",
          "output_type": "stream",
          "text": [
            "Ingrese el numero para caluclar su factorial: 12\n"
          ]
        },
        {
          "output_type": "execute_result",
          "data": {
            "text/plain": [
              "479001600"
            ]
          },
          "metadata": {},
          "execution_count": 7
        }
      ],
      "source": [
        "numero = int(input(\"Ingrese el numero para caluclar su factorial: \"))\n",
        "\n",
        "def factorial(num):\n",
        "  sumador = 1\n",
        "  contador = 1\n",
        "  while contador <= num:\n",
        "    sumador = sumador * contador\n",
        "    contador = contador + 1\n",
        "  return sumador\n",
        "\n",
        "respuesta = factorial(numero)\n",
        "respuesta"
      ]
    },
    {
      "cell_type": "code",
      "source": [],
      "metadata": {
        "id": "zC1EPkvbRV-9"
      },
      "execution_count": null,
      "outputs": []
    }
  ]
}