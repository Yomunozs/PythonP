{
  "nbformat": 4,
  "nbformat_minor": 0,
  "metadata": {
    "colab": {
      "provenance": [],
      "authorship_tag": "ABX9TyPnja8LFT0UeFsKIYTKRhBv",
      "include_colab_link": true
    },
    "kernelspec": {
      "name": "python3",
      "display_name": "Python 3"
    },
    "language_info": {
      "name": "python"
    }
  },
  "cells": [
    {
      "cell_type": "markdown",
      "metadata": {
        "id": "view-in-github",
        "colab_type": "text"
      },
      "source": [
        "<a href=\"https://colab.research.google.com/github/Yomunozs/PythonP/blob/main/Unidad%201/camel.ipynb\" target=\"_parent\"><img src=\"https://colab.research.google.com/assets/colab-badge.svg\" alt=\"Open In Colab\"/></a>"
      ]
    },
    {
      "cell_type": "code",
      "execution_count": 3,
      "metadata": {
        "colab": {
          "base_uri": "https://localhost:8080/"
        },
        "id": "iyHmzpI1G8YE",
        "outputId": "688a89d9-02cb-4c76-b985-1ba70c71ac9b"
      },
      "outputs": [
        {
          "output_type": "stream",
          "name": "stdout",
          "text": [
            "Ingrese un nombre de variable en camelCasehsudahCfasf\n",
            "El nombre de la variable en snake_case es: \n"
          ]
        }
      ],
      "source": [
        "camel_case = input(\"Ingrese un nombre de variable en camelCase\")\n",
        "snake_case = \"\"\n",
        "\n",
        "for i in range (len(camel_case)):\n",
        "  if camel_case.isupper():\n",
        "    snake_case =+ \"_\" + camel_case[i]\n",
        "  else:\n",
        "    snake_case == camel_case[i].lower()\n",
        "\n",
        "print(\"El nombre de la variable en snake_case es:\", snake_case)\n"
      ]
    },
    {
      "cell_type": "code",
      "source": [],
      "metadata": {
        "id": "HSfmy96xKXV5"
      },
      "execution_count": null,
      "outputs": []
    }
  ]
}