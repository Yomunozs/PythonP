{
  "nbformat": 4,
  "nbformat_minor": 0,
  "metadata": {
    "colab": {
      "provenance": [],
      "authorship_tag": "ABX9TyOb0QCpNJewdTF3Vc1YwWi2",
      "include_colab_link": true
    },
    "kernelspec": {
      "name": "python3",
      "display_name": "Python 3"
    },
    "language_info": {
      "name": "python"
    }
  },
  "cells": [
    {
      "cell_type": "markdown",
      "metadata": {
        "id": "view-in-github",
        "colab_type": "text"
      },
      "source": [
        "<a href=\"https://colab.research.google.com/github/Yomunozs/PythonP/blob/main/Unidad%201/Menor_a_mayor.ipynb\" target=\"_parent\"><img src=\"https://colab.research.google.com/assets/colab-badge.svg\" alt=\"Open In Colab\"/></a>"
      ]
    },
    {
      "cell_type": "code",
      "execution_count": 61,
      "metadata": {
        "colab": {
          "base_uri": "https://localhost:8080/"
        },
        "id": "rcCiKag6eUV0",
        "outputId": "b191d1b3-7f08-44a1-f7e4-60d4310f670b"
      },
      "outputs": [
        {
          "name": "stdout",
          "output_type": "stream",
          "text": [
            "Ingrese un numero de la lista, si ya termino digite a: 56\n",
            "Ingrese un numero de la lista, si ya termino digite a: 34\n",
            "Ingrese un numero de la lista, si ya termino digite a: 23\n",
            "Ingrese un numero de la lista, si ya termino digite a: 756.5\n",
            "Ingrese un numero de la lista, si ya termino digite a: a\n"
          ]
        },
        {
          "output_type": "execute_result",
          "data": {
            "text/plain": [
              "['23', '34', '56', '756.5']"
            ]
          },
          "metadata": {},
          "execution_count": 61
        }
      ],
      "source": [
        "lista=[]\n",
        "numero = 0\n",
        "i = 0\n",
        "while numero != \"a\":\n",
        "  numero = input(\"Ingrese un numero de la lista, si ya termino digite a: \")\n",
        "  lista.append(numero) #agrega el numero a la lista\n",
        "  i += 1 # actualiza el contador\n",
        "lista=lista[0:len(lista)-1] #elimina la a del final\n",
        "menor_a_mayor=[]\n",
        "for j in range(len(lista)-1):\n",
        "  for i in range(len(lista)-1):\n",
        "    if lista[i] > lista[i+1]:\n",
        "      a=lista[i]\n",
        "      b=lista[i+1]\n",
        "      lista[i] = b\n",
        "      lista[i+1] = a\n",
        "\n",
        "lista"
      ]
    },
    {
      "cell_type": "code",
      "source": [],
      "metadata": {
        "id": "RgjGSkChhhGm"
      },
      "execution_count": 60,
      "outputs": []
    }
  ]
}