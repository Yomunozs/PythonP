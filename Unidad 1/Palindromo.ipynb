{
  "nbformat": 4,
  "nbformat_minor": 0,
  "metadata": {
    "colab": {
      "provenance": [],
      "authorship_tag": "ABX9TyPGCrhiZPntc/4+gKb78poA",
      "include_colab_link": true
    },
    "kernelspec": {
      "name": "python3",
      "display_name": "Python 3"
    },
    "language_info": {
      "name": "python"
    }
  },
  "cells": [
    {
      "cell_type": "markdown",
      "metadata": {
        "id": "view-in-github",
        "colab_type": "text"
      },
      "source": [
        "<a href=\"https://colab.research.google.com/github/Yomunozs/PythonP/blob/main/Unidad%201/Palindromo.ipynb\" target=\"_parent\"><img src=\"https://colab.research.google.com/assets/colab-badge.svg\" alt=\"Open In Colab\"/></a>"
      ]
    },
    {
      "cell_type": "code",
      "execution_count": 17,
      "metadata": {
        "colab": {
          "base_uri": "https://localhost:8080/"
        },
        "id": "MOJKNZeYaCzP",
        "outputId": "64bb1368-1d76-4103-eeeb-05ec8ae7593e"
      },
      "outputs": [
        {
          "output_type": "stream",
          "name": "stdout",
          "text": [
            "Ingrese la palabra para evaluar: asdfdsa\n",
            "La palabra es un palindromo\n",
            "asdfdsa\n"
          ]
        }
      ],
      "source": [
        "palabra = (input(\"Ingrese la palabra para evaluar: \"))\n",
        "\n",
        "def palindromo(pal):\n",
        "  pal2 = \"\"\n",
        "  for i in range(len(pal)):\n",
        "    pal2 += pal[-i-1]\n",
        "  if pal == pal2:\n",
        "    print(\"La palabra es un palindromo\")\n",
        "    print(pal2)\n",
        "  else:\n",
        "    print(\"La palabra no es un palindromo\")\n",
        "    print(pal2)\n",
        "\n",
        "prueba = palindromo(palabra)\n"
      ]
    },
    {
      "cell_type": "code",
      "source": [],
      "metadata": {
        "id": "YZFIhJz8dOeO"
      },
      "execution_count": 11,
      "outputs": []
    }
  ]
}