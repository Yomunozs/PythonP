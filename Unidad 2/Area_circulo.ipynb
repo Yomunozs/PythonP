{
  "nbformat": 4,
  "nbformat_minor": 0,
  "metadata": {
    "colab": {
      "provenance": [],
      "authorship_tag": "ABX9TyPnSMxFGbJ/C7Ierwbn46ck",
      "include_colab_link": true
    },
    "kernelspec": {
      "name": "python3",
      "display_name": "Python 3"
    },
    "language_info": {
      "name": "python"
    }
  },
  "cells": [
    {
      "cell_type": "markdown",
      "metadata": {
        "id": "view-in-github",
        "colab_type": "text"
      },
      "source": [
        "<a href=\"https://colab.research.google.com/github/Yomunozs/PythonP/blob/main/Unidad%202/Area_circulo.ipynb\" target=\"_parent\"><img src=\"https://colab.research.google.com/assets/colab-badge.svg\" alt=\"Open In Colab\"/></a>"
      ]
    },
    {
      "cell_type": "markdown",
      "source": [
        "Escribe una función area_circulo que acepte un argumento de radio y calcule el área del círculo correspondiente. Recuerda que el área de un círculo se calcula como pi * radio**2."
      ],
      "metadata": {
        "id": "t9vqpY4Pq8Zj"
      }
    },
    {
      "cell_type": "code",
      "execution_count": 1,
      "metadata": {
        "id": "pR4I4Ygzq4tB"
      },
      "outputs": [],
      "source": [
        "import numpy as np\n",
        "def area_circulo(radio):\n",
        "  area = np.pi*(radio**2)\n",
        "  return area\n",
        "\n"
      ]
    },
    {
      "cell_type": "code",
      "source": [
        "area = area_circulo(2)\n",
        "area"
      ],
      "metadata": {
        "colab": {
          "base_uri": "https://localhost:8080/"
        },
        "id": "u8RdH2L3znx7",
        "outputId": "4489ddd6-ee37-4fd2-f43e-0cceefee3a0f"
      },
      "execution_count": 3,
      "outputs": [
        {
          "output_type": "execute_result",
          "data": {
            "text/plain": [
              "12.566370614359172"
            ]
          },
          "metadata": {},
          "execution_count": 3
        }
      ]
    },
    {
      "cell_type": "code",
      "source": [],
      "metadata": {
        "id": "YpTNhQEvzwyb"
      },
      "execution_count": null,
      "outputs": []
    }
  ]
}