{
  "nbformat": 4,
  "nbformat_minor": 0,
  "metadata": {
    "colab": {
      "provenance": [],
      "authorship_tag": "ABX9TyP6TTCcPLnlzS2tfRVxlMS4",
      "include_colab_link": true
    },
    "kernelspec": {
      "name": "python3",
      "display_name": "Python 3"
    },
    "language_info": {
      "name": "python"
    }
  },
  "cells": [
    {
      "cell_type": "markdown",
      "metadata": {
        "id": "view-in-github",
        "colab_type": "text"
      },
      "source": [
        "<a href=\"https://colab.research.google.com/github/Yomunozs/PythonP/blob/main/Unidad%202/Welcome.ipynb\" target=\"_parent\"><img src=\"https://colab.research.google.com/assets/colab-badge.svg\" alt=\"Open In Colab\"/></a>"
      ]
    },
    {
      "cell_type": "code",
      "execution_count": 3,
      "metadata": {
        "colab": {
          "base_uri": "https://localhost:8080/"
        },
        "id": "jmjxYEua_Pgz",
        "outputId": "9718a372-cd7c-4c53-c9a5-ac6d67d3e2f5"
      },
      "outputs": [
        {
          "output_type": "stream",
          "name": "stdout",
          "text": [
            "Ingresa la masa en kg: 25\n",
            "la energia en julios es: 2250000000000\n"
          ]
        }
      ],
      "source": [
        "#Einstein\n",
        "masa = int(input(\"Ingresa la masa en kg: \"))\n",
        "c = 300000 #m/s velocidad de la luz\n",
        "e = masa * (c **2)\n",
        "print(f\"la energia en julios es: {e}\")"
      ]
    },
    {
      "cell_type": "code",
      "source": [],
      "metadata": {
        "id": "7hzq62GfCX5y"
      },
      "execution_count": null,
      "outputs": []
    }
  ]
}