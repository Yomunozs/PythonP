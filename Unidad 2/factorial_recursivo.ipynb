{
  "nbformat": 4,
  "nbformat_minor": 0,
  "metadata": {
    "colab": {
      "provenance": [],
      "authorship_tag": "ABX9TyPG/fgjv137zV3lFNV+2T9B",
      "include_colab_link": true
    },
    "kernelspec": {
      "name": "python3",
      "display_name": "Python 3"
    },
    "language_info": {
      "name": "python"
    }
  },
  "cells": [
    {
      "cell_type": "markdown",
      "metadata": {
        "id": "view-in-github",
        "colab_type": "text"
      },
      "source": [
        "<a href=\"https://colab.research.google.com/github/Yomunozs/PythonP/blob/main/Unidad%202/factorial_recursivo.ipynb\" target=\"_parent\"><img src=\"https://colab.research.google.com/assets/colab-badge.svg\" alt=\"Open In Colab\"/></a>"
      ]
    },
    {
      "cell_type": "markdown",
      "source": [
        "El factorial de un número n, denotado como n!, es el producto de todos los números enteros desde 1 hasta n. Escribe una función recursiva factorial que calcule el factorial de un número."
      ],
      "metadata": {
        "id": "FCMO5ty33ygU"
      }
    },
    {
      "cell_type": "code",
      "execution_count": 7,
      "metadata": {
        "id": "XyUhcxb23v6V"
      },
      "outputs": [],
      "source": [
        "def factorial_recursivo(n):\n",
        "    if n == 1 or n == 0:\n",
        "        return 1\n",
        "    else:\n",
        "        print(f\"se cierra función {n-1} \")\n",
        "        return n * factorial_recursivo(n-1)\n",
        "\n"
      ]
    },
    {
      "cell_type": "code",
      "source": [
        "factorial_recursivo(8)"
      ],
      "metadata": {
        "colab": {
          "base_uri": "https://localhost:8080/"
        },
        "id": "ZQCB5MxE4VLm",
        "outputId": "2387b73f-4a86-4f73-e265-a86f5ee2158c"
      },
      "execution_count": 8,
      "outputs": [
        {
          "output_type": "stream",
          "name": "stdout",
          "text": [
            "se cierra función 7 \n",
            "se cierra función 6 \n",
            "se cierra función 5 \n",
            "se cierra función 4 \n",
            "se cierra función 3 \n",
            "se cierra función 2 \n",
            "se cierra función 1 \n"
          ]
        },
        {
          "output_type": "execute_result",
          "data": {
            "text/plain": [
              "40320"
            ]
          },
          "metadata": {},
          "execution_count": 8
        }
      ]
    },
    {
      "cell_type": "code",
      "source": [],
      "metadata": {
        "id": "HEcJr1du6u-n"
      },
      "execution_count": null,
      "outputs": []
    }
  ]
}