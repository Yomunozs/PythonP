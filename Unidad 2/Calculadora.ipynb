{
  "nbformat": 4,
  "nbformat_minor": 0,
  "metadata": {
    "colab": {
      "provenance": [],
      "authorship_tag": "ABX9TyN+fYab5bVeKRAaaqstjY8c",
      "include_colab_link": true
    },
    "kernelspec": {
      "name": "python3",
      "display_name": "Python 3"
    },
    "language_info": {
      "name": "python"
    }
  },
  "cells": [
    {
      "cell_type": "markdown",
      "metadata": {
        "id": "view-in-github",
        "colab_type": "text"
      },
      "source": [
        "<a href=\"https://colab.research.google.com/github/Yomunozs/PythonP/blob/main/Unidad%202/Calculadora.ipynb\" target=\"_parent\"><img src=\"https://colab.research.google.com/assets/colab-badge.svg\" alt=\"Open In Colab\"/></a>"
      ]
    },
    {
      "cell_type": "markdown",
      "source": [
        "1. Crea un módulo `calculadora.py` con funciones para las operaciones básicas: suma, resta, multiplicación y división.\n",
        "\n",
        "2. Crea un módulo `principal.py` que importe tu módulo `calculadora.py` y utilice sus funciones para realizar algunas operaciones."
      ],
      "metadata": {
        "id": "alfRJLPo_Lak"
      }
    },
    {
      "cell_type": "code",
      "execution_count": null,
      "metadata": {
        "id": "HZgtyiZm_J11"
      },
      "outputs": [],
      "source": [
        "def suma(a, b):\n",
        "  r = a + b\n",
        "  return r\n",
        "\n",
        "def resta(a, b):\n",
        "  r = a - b\n",
        "  return r\n",
        "\n",
        "def division(a, b):\n",
        "  r = a / b\n",
        "  return r\n",
        "\n",
        "def multipliacion(a, b):\n",
        "  r = a * b\n",
        "  return r\n",
        "\n"
      ]
    }
  ]
}