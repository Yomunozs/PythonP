{
  "nbformat": 4,
  "nbformat_minor": 0,
  "metadata": {
    "colab": {
      "provenance": [],
      "authorship_tag": "ABX9TyPCwgQNwiwqEnedMmVsw5gd",
      "include_colab_link": true
    },
    "kernelspec": {
      "name": "python3",
      "display_name": "Python 3"
    },
    "language_info": {
      "name": "python"
    }
  },
  "cells": [
    {
      "cell_type": "markdown",
      "metadata": {
        "id": "view-in-github",
        "colab_type": "text"
      },
      "source": [
        "<a href=\"https://colab.research.google.com/github/Yomunozs/PythonP/blob/main/Unidad%202/IMC.ipynb\" target=\"_parent\"><img src=\"https://colab.research.google.com/assets/colab-badge.svg\" alt=\"Open In Colab\"/></a>"
      ]
    },
    {
      "cell_type": "code",
      "execution_count": null,
      "metadata": {
        "id": "AIyMCNy996o4"
      },
      "outputs": [],
      "source": [
        "peso = float(input(\"Ingrese su peso en kg: \"))\n",
        "altura = float(input(\"Ingrese su altura en metros: \"))\n",
        "\n",
        "imc = peso / (altura**2)\n",
        "\n",
        "if imc < 18.5:\n",
        "  resultado = \"bajo peso\"\n",
        "elif imc > 25:\n",
        "  resultado = \"sobrepeso\"\n",
        "else:\n",
        "  resultado = \" peso normal\"\n",
        "\n",
        "print(f\"su IMC es {imc:.1f}. usted tiene {resultado}\")"
      ]
    },
    {
      "cell_type": "code",
      "source": [],
      "metadata": {
        "id": "dArYQIFn--rz"
      },
      "execution_count": null,
      "outputs": []
    }
  ]
}