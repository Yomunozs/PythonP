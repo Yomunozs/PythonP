{
  "nbformat": 4,
  "nbformat_minor": 0,
  "metadata": {
    "colab": {
      "provenance": [],
      "authorship_tag": "ABX9TyMnL1Elxm187eO3+I4QQwAG",
      "include_colab_link": true
    },
    "kernelspec": {
      "name": "python3",
      "display_name": "Python 3"
    },
    "language_info": {
      "name": "python"
    }
  },
  "cells": [
    {
      "cell_type": "markdown",
      "metadata": {
        "id": "view-in-github",
        "colab_type": "text"
      },
      "source": [
        "<a href=\"https://colab.research.google.com/github/Yomunozs/PythonP/blob/main/Unidad%202/saludo_procedimiento.ipynb\" target=\"_parent\"><img src=\"https://colab.research.google.com/assets/colab-badge.svg\" alt=\"Open In Colab\"/></a>"
      ]
    },
    {
      "cell_type": "markdown",
      "source": [
        "\n",
        "Escribe un procedimiento saludo_procedimiento que imprima un saludo personalizado en lugar de retornarlo. Por ejemplo, saludo_procedimiento('Alice') debería imprimir '¡Hola, Alice!'."
      ],
      "metadata": {
        "id": "pV-RPjaB8LeM"
      }
    },
    {
      "cell_type": "code",
      "execution_count": 8,
      "metadata": {
        "id": "igbfFvK_8HAU"
      },
      "outputs": [],
      "source": [
        "def saludo_procedimiento(nombre):\n",
        "  print(f\"¡Hola, {nombre}!\")"
      ]
    },
    {
      "cell_type": "code",
      "source": [
        "nombre = \"Alice\"\n",
        "saludo_procedimiento(nombre)"
      ],
      "metadata": {
        "colab": {
          "base_uri": "https://localhost:8080/"
        },
        "id": "H9jsdiQi8uzZ",
        "outputId": "3bce4b38-65b6-40bd-b379-e665b1e1086e"
      },
      "execution_count": 9,
      "outputs": [
        {
          "output_type": "stream",
          "name": "stdout",
          "text": [
            "¡Hola, Alice!\n"
          ]
        }
      ]
    },
    {
      "cell_type": "code",
      "source": [],
      "metadata": {
        "id": "lI136JXN9I5N"
      },
      "execution_count": null,
      "outputs": []
    }
  ]
}