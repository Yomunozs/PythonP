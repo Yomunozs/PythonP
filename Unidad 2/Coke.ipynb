{
  "nbformat": 4,
  "nbformat_minor": 0,
  "metadata": {
    "colab": {
      "provenance": [],
      "authorship_tag": "ABX9TyOseD8a0oEWhC+EiwJJfl9z",
      "include_colab_link": true
    },
    "kernelspec": {
      "name": "python3",
      "display_name": "Python 3"
    },
    "language_info": {
      "name": "python"
    }
  },
  "cells": [
    {
      "cell_type": "markdown",
      "metadata": {
        "id": "view-in-github",
        "colab_type": "text"
      },
      "source": [
        "<a href=\"https://colab.research.google.com/github/Yomunozs/PythonP/blob/main/Unidad%202/Coke.ipynb\" target=\"_parent\"><img src=\"https://colab.research.google.com/assets/colab-badge.svg\" alt=\"Open In Colab\"/></a>"
      ]
    },
    {
      "cell_type": "code",
      "execution_count": 10,
      "metadata": {
        "colab": {
          "base_uri": "https://localhost:8080/"
        },
        "id": "356-HMSra_r5",
        "outputId": "623673ad-2009-4ff3-8fa6-ea240a8c68e2"
      },
      "outputs": [
        {
          "output_type": "stream",
          "name": "stdout",
          "text": [
            "Ingresa una moneda (25, 10 0 5 centavos): 50\n",
            "Moneda no aceptada. Ingrese una moneda de 25, 10 o 5 centavos\n",
            "Ingresa una moneda (25, 10 0 5 centavos): 25\n",
            "Monto adeudado: 25 centavos\n",
            "Ingresa una moneda (25, 10 0 5 centavos): 25\n",
            "Monto adeudado: 0 centavos\n"
          ]
        }
      ],
      "source": [
        "precio = 50\n",
        "denominaciones = [25, 10, 5]\n",
        "ingresado = 0\n",
        "adeudado = precio\n",
        "while adeudado > 0:\n",
        "  moneda = int(input(\"Ingresa una moneda (25, 10 0 5 centavos): \"))\n",
        "  if moneda in denominaciones :\n",
        "    ingresado += moneda\n",
        "    adeudado -= moneda\n",
        "    print(f\"Monto adeudado: {adeudado} centavos\")\n",
        "  else:\n",
        "    print(\"Moneda no aceptada. Ingrese una moneda de 25, 10 o 5 centavos\")\n",
        "\n",
        "if ingresado >precio:\n",
        "  cambio = ingresado - precio\n",
        "  print(f\"Cambio: {cambio} centavos\")\n"
      ]
    },
    {
      "cell_type": "code",
      "source": [],
      "metadata": {
        "id": "sJDuqTgxeaFG"
      },
      "execution_count": 4,
      "outputs": []
    }
  ]
}