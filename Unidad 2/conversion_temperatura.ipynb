{
  "nbformat": 4,
  "nbformat_minor": 0,
  "metadata": {
    "colab": {
      "provenance": [],
      "authorship_tag": "ABX9TyPFiLzAruvu4ZeGKOmr4tnP",
      "include_colab_link": true
    },
    "kernelspec": {
      "name": "python3",
      "display_name": "Python 3"
    },
    "language_info": {
      "name": "python"
    }
  },
  "cells": [
    {
      "cell_type": "markdown",
      "metadata": {
        "id": "view-in-github",
        "colab_type": "text"
      },
      "source": [
        "<a href=\"https://colab.research.google.com/github/Yomunozs/PythonP/blob/main/Unidad%202/conversion_temperatura.ipynb\" target=\"_parent\"><img src=\"https://colab.research.google.com/assets/colab-badge.svg\" alt=\"Open In Colab\"/></a>"
      ]
    },
    {
      "cell_type": "markdown",
      "source": [
        "Escribe dos funciones, celsius_a_fahrenheit y fahrenheit_a_celsius, que conviertan temperaturas de una escala a otra.\n",
        "\n",
        "La fórmula para convertir de Celsius a Fahrenheit es (temperatura_celsius * 9/5) + 32, y la fórmula para convertir de Fahrenheit a Celsius es (temperatura_fahrenheit - 32) * 5/9."
      ],
      "metadata": {
        "id": "LcGl91ib0X82"
      }
    },
    {
      "cell_type": "code",
      "execution_count": null,
      "metadata": {
        "id": "yW-tIrkX0So_"
      },
      "outputs": [],
      "source": [
        "def celsius_a_fahrenheit(temp_celsius):\n",
        "  temp_fahrenheit = (temp_celsius * 9/5) + 32\n",
        "  return temp_fahrenheit\n",
        "\n",
        "def fahrenheit_a_celsius(temp_fahrenheit):\n",
        "  temp_celsius = (temp_fahrenheit - 32) * 5/9\n",
        "  return temp_celsius\n",
        "\n"
      ]
    }
  ]
}