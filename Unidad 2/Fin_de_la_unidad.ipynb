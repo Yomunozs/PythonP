{
  "nbformat": 4,
  "nbformat_minor": 0,
  "metadata": {
    "colab": {
      "provenance": [],
      "authorship_tag": "ABX9TyMoH6p+8fTT8zlP2HaySLcl",
      "include_colab_link": true
    },
    "kernelspec": {
      "name": "python3",
      "display_name": "Python 3"
    },
    "language_info": {
      "name": "python"
    }
  },
  "cells": [
    {
      "cell_type": "markdown",
      "metadata": {
        "id": "view-in-github",
        "colab_type": "text"
      },
      "source": [
        "<a href=\"https://colab.research.google.com/github/Yomunozs/PythonP/blob/main/Unidad%202/Fin_de_la_unidad.ipynb\" target=\"_parent\"><img src=\"https://colab.research.google.com/assets/colab-badge.svg\" alt=\"Open In Colab\"/></a>"
      ]
    },
    {
      "cell_type": "markdown",
      "source": [
        "1. Crea una clase `Animal` con los atributos `nombre` y `edad`, y un método `hacer_sonido`.\n",
        "\n",
        "2. Crea una subclase `Perro` que hereda de `Animal`, añade el atributo `raza`, y sobreescribe el método `hacer_sonido`.\n",
        "\n",
        "3. Crea una subclase `Gato` que hereda de `Animal`, añade el atributo `color`, y sobreescribe el método `hacer_sonido`.\n",
        "\n",
        "4. Crea instancias de `Perro` y `Gato` y haz que emitan sus sonidos.\n",
        "\n",
        "5. Crea una función `presentar_animal` que reciba un `Animal` y muestre su nombre, edad, y haga que el animal emita su sonido. Utilízala con instancias de `Perro` y `Gato`. Observa cómo se aplica el polimorfismo."
      ],
      "metadata": {
        "id": "sRaYt2ZnHVsS"
      }
    },
    {
      "cell_type": "code",
      "execution_count": null,
      "metadata": {
        "id": "lSdKlEE3HTV1"
      },
      "outputs": [],
      "source": []
    }
  ]
}