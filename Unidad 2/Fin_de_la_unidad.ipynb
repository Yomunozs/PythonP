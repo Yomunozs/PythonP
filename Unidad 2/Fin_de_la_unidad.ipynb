{
  "nbformat": 4,
  "nbformat_minor": 0,
  "metadata": {
    "colab": {
      "provenance": [],
      "authorship_tag": "ABX9TyOMmx+CYVty8TwJWAW7DuSK",
      "include_colab_link": true
    },
    "kernelspec": {
      "name": "python3",
      "display_name": "Python 3"
    },
    "language_info": {
      "name": "python"
    }
  },
  "cells": [
    {
      "cell_type": "markdown",
      "metadata": {
        "id": "view-in-github",
        "colab_type": "text"
      },
      "source": [
        "<a href=\"https://colab.research.google.com/github/Yomunozs/PythonP/blob/main/Unidad%202/Fin_de_la_unidad.ipynb\" target=\"_parent\"><img src=\"https://colab.research.google.com/assets/colab-badge.svg\" alt=\"Open In Colab\"/></a>"
      ]
    },
    {
      "cell_type": "markdown",
      "source": [
        "1. Crea una clase `Animal` con los atributos `nombre` y `edad`, y un método `hacer_sonido`.\n",
        "\n",
        "2. Crea una subclase `Perro` que hereda de `Animal`, añade el atributo `raza`, y sobreescribe el método `hacer_sonido`.\n",
        "\n",
        "3. Crea una subclase `Gato` que hereda de `Animal`, añade el atributo `color`, y sobreescribe el método `hacer_sonido`.\n",
        "\n",
        "4. Crea instancias de `Perro` y `Gato` y haz que emitan sus sonidos.\n",
        "\n",
        "5. Crea una función `presentar_animal` que reciba un `Animal` y muestre su nombre, edad, y haga que el animal emita su sonido. Utilízala con instancias de `Perro` y `Gato`. Observa cómo se aplica el polimorfismo."
      ],
      "metadata": {
        "id": "sRaYt2ZnHVsS"
      }
    },
    {
      "cell_type": "code",
      "execution_count": 60,
      "metadata": {
        "id": "lSdKlEE3HTV1"
      },
      "outputs": [],
      "source": [
        "class animal:\n",
        "\n",
        "  def __init__(self, nombre, edad):\n",
        "    self.nombre = nombre\n",
        "    self.edad = edad\n",
        "\n",
        "  def hacer_sonido(self, sonido):\n",
        "    print(\"sonido\")\n",
        "\n",
        "class perro(animal):\n",
        "  def __init__(self, nombre, edad, raza):\n",
        "    self.raza = raza\n",
        "    super().__init__(nombre, edad)\n",
        "\n",
        "\n",
        "\n",
        "  def hacer_sonido(self):\n",
        "    print(\"guau\")\n",
        "    return \"guau\"\n",
        "\n",
        "class gato(animal):\n",
        "  def __init__(self, nombre, edad, color):\n",
        "    self.color = color\n",
        "    super().__init__(nombre, edad)\n",
        "\n",
        "  def hacer_sonido(self):\n",
        "    print(\"miau\")\n",
        "    return \"miau\"\n",
        "\n",
        "\n",
        "\n"
      ]
    },
    {
      "cell_type": "code",
      "source": [
        "perro1 = perro(\"paul\", \"12\", \"pug\")\n",
        "perro1.hacer_sonido()"
      ],
      "metadata": {
        "colab": {
          "base_uri": "https://localhost:8080/",
          "height": 55
        },
        "id": "4KhA5_Xkr3IT",
        "outputId": "2cce6060-98c9-4670-8b25-aa3cbbb89ab8"
      },
      "execution_count": 61,
      "outputs": [
        {
          "output_type": "stream",
          "name": "stdout",
          "text": [
            "guau\n"
          ]
        },
        {
          "output_type": "execute_result",
          "data": {
            "text/plain": [
              "'guau'"
            ],
            "application/vnd.google.colaboratory.intrinsic+json": {
              "type": "string"
            }
          },
          "metadata": {},
          "execution_count": 61
        }
      ]
    },
    {
      "cell_type": "code",
      "source": [
        "gato1 = gato(\"sam\", \"3\", \"gris\")\n",
        "gato1.hacer_sonido()"
      ],
      "metadata": {
        "colab": {
          "base_uri": "https://localhost:8080/",
          "height": 55
        },
        "id": "I2X041Sar30u",
        "outputId": "4d8b76b6-3ee7-46d0-b233-e88e4c65667b"
      },
      "execution_count": 62,
      "outputs": [
        {
          "output_type": "stream",
          "name": "stdout",
          "text": [
            "miau\n"
          ]
        },
        {
          "output_type": "execute_result",
          "data": {
            "text/plain": [
              "'miau'"
            ],
            "application/vnd.google.colaboratory.intrinsic+json": {
              "type": "string"
            }
          },
          "metadata": {},
          "execution_count": 62
        }
      ]
    },
    {
      "cell_type": "code",
      "source": [
        "def presentar_animal(tipo, nombre, edad, caracteristica):\n",
        "\n",
        "  if tipo == \"perro\":\n",
        "    animal = perro(nombre, edad, caracteristica)\n",
        "  elif tipo == \"gato\":\n",
        "    animal = gato(nombre, edad, caracteristica)\n",
        "  else:\n",
        "    print(\"inserteun animal valido\")\n",
        "\n",
        "  print(f\"{animal.nombre} hace {animal.hacer_sonido()}, su edad es: {animal.edad}\")\n",
        "  print(animal.hacer_sonido)\n"
      ],
      "metadata": {
        "id": "ThmzIFtcvgp7"
      },
      "execution_count": 63,
      "outputs": []
    },
    {
      "cell_type": "code",
      "source": [
        "presentar_animal(\"gato\", \"kiko\", 3, \"azul\")"
      ],
      "metadata": {
        "colab": {
          "base_uri": "https://localhost:8080/"
        },
        "id": "FeRG5_QN2YmQ",
        "outputId": "ec80bb7e-de91-40ec-941e-1075bb05de10"
      },
      "execution_count": 64,
      "outputs": [
        {
          "output_type": "stream",
          "name": "stdout",
          "text": [
            "miau\n",
            "kiko hace miau, su edad es: 3\n",
            "<bound method gato.hacer_sonido of <__main__.gato object at 0x78b72fe626e0>>\n"
          ]
        }
      ]
    },
    {
      "cell_type": "code",
      "source": [],
      "metadata": {
        "id": "PdH5y4Bs3Bkz"
      },
      "execution_count": null,
      "outputs": []
    }
  ]
}