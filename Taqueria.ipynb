{
  "nbformat": 4,
  "nbformat_minor": 0,
  "metadata": {
    "colab": {
      "provenance": [],
      "authorship_tag": "ABX9TyM4KW33NIUa7xlQiNzD4mji",
      "include_colab_link": true
    },
    "kernelspec": {
      "name": "python3",
      "display_name": "Python 3"
    },
    "language_info": {
      "name": "python"
    }
  },
  "cells": [
    {
      "cell_type": "markdown",
      "metadata": {
        "id": "view-in-github",
        "colab_type": "text"
      },
      "source": [
        "<a href=\"https://colab.research.google.com/github/Yomunozs/PythonP/blob/main/Taqueria.ipynb\" target=\"_parent\"><img src=\"https://colab.research.google.com/assets/colab-badge.svg\" alt=\"Open In Colab\"/></a>"
      ]
    },
    {
      "cell_type": "code",
      "execution_count": 16,
      "metadata": {
        "colab": {
          "base_uri": "https://localhost:8080/"
        },
        "id": "jBaoGb5AkNd-",
        "outputId": "448b2fc2-8e36-4a42-d7e7-b3cc1a5a06aa"
      },
      "outputs": [
        {
          "output_type": "stream",
          "name": "stdout",
          "text": [
            "Ingrese un articulo de su pedido: Taco\n",
            "3.0\n",
            "Ingrese un articulo de su pedido: Ya\n",
            "El total de su pedido es $3.00\n"
          ]
        }
      ],
      "source": [
        "menu = {\"Baja taco\":4.00,\n",
        "        \"Burrito\": 7.50,\n",
        "        \"Bowl\": 8.50,\n",
        "        \"Nachos\": 11.00,\n",
        "        \"Quesadilla\": 8.50,\n",
        "        \"Super Burrito\": 8.50,\n",
        "        \"Super Quesadila\": 9.50,\n",
        "        \"Taco\": 3.00,\n",
        "        \"Tortilla Salad\": 8.00}\n",
        "\n",
        "def main(menu):\n",
        "\n",
        " order_total=0\n",
        " while True:\n",
        "  try:\n",
        "    item = input (\"Ingrese un articulo de su pedido: \")\n",
        "  except EOFError:\n",
        "    break\n",
        "  #item = item.upper() #vuelve todo mayuscula\n",
        "  if item in menu:\n",
        "    order_total += menu[item]\n",
        "    print(order_total)\n",
        "  elif item == \"Ya\":\n",
        "    print(f\"El total de su pedido es ${order_total:.2f}\") #:.2f redodnde dos decimales\n",
        "    break\n",
        "  else:\n",
        "    print(\"articulo invalido\")\n",
        "if __name__ == \"main\":\n",
        "  main()\n",
        "a= main(menu)\n"
      ]
    },
    {
      "cell_type": "code",
      "source": [],
      "metadata": {
        "id": "185EPFR2qOh-"
      },
      "execution_count": null,
      "outputs": []
    }
  ]
}