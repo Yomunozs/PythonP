{
  "nbformat": 4,
  "nbformat_minor": 0,
  "metadata": {
    "colab": {
      "provenance": [],
      "authorship_tag": "ABX9TyMJHAs/DMMsMiLhn81jCPrq",
      "include_colab_link": true
    },
    "kernelspec": {
      "name": "python3",
      "display_name": "Python 3"
    },
    "language_info": {
      "name": "python"
    }
  },
  "cells": [
    {
      "cell_type": "markdown",
      "metadata": {
        "id": "view-in-github",
        "colab_type": "text"
      },
      "source": [
        "<a href=\"https://colab.research.google.com/github/Yomunozs/PythonP/blob/main/Unidad%204/Miniintroduccion_Frameworks.ipynb\" target=\"_parent\"><img src=\"https://colab.research.google.com/assets/colab-badge.svg\" alt=\"Open In Colab\"/></a>"
      ]
    },
    {
      "cell_type": "markdown",
      "source": [
        "Conexion"
      ],
      "metadata": {
        "id": "Zq82IRmwkvCF"
      }
    },
    {
      "cell_type": "code",
      "execution_count": 3,
      "metadata": {
        "id": "kqcX2fe3iJzI"
      },
      "outputs": [],
      "source": [
        " from sqlalchemy import create_engine"
      ]
    },
    {
      "cell_type": "code",
      "source": [
        "database_url = \"sqlite:///./test.db\" #Ejemplo de conexion a SQlite"
      ],
      "metadata": {
        "id": "6fFcaj6mj7La"
      },
      "execution_count": 4,
      "outputs": []
    },
    {
      "cell_type": "code",
      "source": [
        "engine = create_engine(database_url) # Estabece la conexion con la base de datos"
      ],
      "metadata": {
        "id": "5Jq2zh1LkXjG"
      },
      "execution_count": 5,
      "outputs": []
    },
    {
      "cell_type": "markdown",
      "source": [
        "Modelos"
      ],
      "metadata": {
        "id": "6pXpCrWrkqOq"
      }
    },
    {
      "cell_type": "code",
      "source": [
        "from sqlalchemy import Column, Integer, String\n",
        "from sqlalchemy.ext.declarative import declarative_base"
      ],
      "metadata": {
        "id": "-EC33ygckcf6"
      },
      "execution_count": 6,
      "outputs": []
    },
    {
      "cell_type": "code",
      "source": [
        "base = declarative_base()"
      ],
      "metadata": {
        "colab": {
          "base_uri": "https://localhost:8080/"
        },
        "id": "tjFQIypJlE4b",
        "outputId": "09423f63-b381-493d-c852-3a627becbcb9"
      },
      "execution_count": 7,
      "outputs": [
        {
          "output_type": "stream",
          "name": "stderr",
          "text": [
            "<ipython-input-7-8d04f9ae3892>:1: MovedIn20Warning: The ``declarative_base()`` function is now available as sqlalchemy.orm.declarative_base(). (deprecated since: 2.0) (Background on SQLAlchemy 2.0 at: https://sqlalche.me/e/b8d9)\n",
            "  base = declarative_base()\n"
          ]
        }
      ]
    },
    {
      "cell_type": "code",
      "source": [
        "class user(base):\n",
        "  __tablename__= \"users\"\n",
        "  id = Column(Integer, primary_key = True)\n",
        "  name = Column(String)"
      ],
      "metadata": {
        "id": "9eSy0H2HlHru"
      },
      "execution_count": 11,
      "outputs": []
    },
    {
      "cell_type": "markdown",
      "source": [
        "Migrations"
      ],
      "metadata": {
        "id": "QeMwuae8lswA"
      }
    },
    {
      "cell_type": "code",
      "source": [
        "base.metadata.create_all(engine)\n",
        "\n",
        "from sqlalchemy.orm import sessionmaker"
      ],
      "metadata": {
        "id": "WnJBWeU0labh"
      },
      "execution_count": 12,
      "outputs": []
    },
    {
      "cell_type": "code",
      "source": [
        "Session = sessionmaker(bind = engine)\n",
        "session = Session()"
      ],
      "metadata": {
        "id": "KwKFzUzll7aa"
      },
      "execution_count": 14,
      "outputs": []
    },
    {
      "cell_type": "code",
      "source": [
        "for item in data:\n",
        "  user = User(id = item[\"id\"], name = item[\"name\"])\n",
        "  session.add(user)\n",
        "session.commit()"
      ],
      "metadata": {
        "id": "A3MfNuUymDiM"
      },
      "execution_count": null,
      "outputs": []
    },
    {
      "cell_type": "markdown",
      "source": [
        "api"
      ],
      "metadata": {
        "id": "07ed01X1nHOw"
      }
    },
    {
      "cell_type": "code",
      "source": [
        "import requests"
      ],
      "metadata": {
        "id": "0M2CnP-vmbeE"
      },
      "execution_count": 16,
      "outputs": []
    },
    {
      "cell_type": "code",
      "source": [
        "response = requests.get(\"https://api.example.com/data\")\n",
        "data = response.json"
      ],
      "metadata": {
        "id": "RWAtK5o1nL72"
      },
      "execution_count": null,
      "outputs": []
    },
    {
      "cell_type": "code",
      "source": [
        "#RUD = create read updte delete = post get put del"
      ],
      "metadata": {
        "id": "d_PXqYXmnWxF"
      },
      "execution_count": 18,
      "outputs": []
    },
    {
      "cell_type": "markdown",
      "source": [
        "Routes"
      ],
      "metadata": {
        "id": "CttoNrZ2nv3T"
      }
    },
    {
      "cell_type": "code",
      "source": [
        "from flask import Flask, jsonify"
      ],
      "metadata": {
        "id": "hUGWNRxNnxm5"
      },
      "execution_count": 19,
      "outputs": []
    },
    {
      "cell_type": "code",
      "source": [
        "app = Flask(__name__)\n",
        "\n",
        "@app.route(\"/users\", methods = [\"GET\"])\n",
        "def get_users():\n",
        "  users = session.query(User).all()\n",
        "  return jsonify([user.name for user in users])"
      ],
      "metadata": {
        "id": "J04N4X-7n6Ir"
      },
      "execution_count": 20,
      "outputs": []
    },
    {
      "cell_type": "code",
      "source": [],
      "metadata": {
        "id": "hel6U5TIob3k"
      },
      "execution_count": null,
      "outputs": []
    }
  ]
}